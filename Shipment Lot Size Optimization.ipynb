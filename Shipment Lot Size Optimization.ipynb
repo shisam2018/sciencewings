{
 "cells": [
  {
   "cell_type": "code",
   "execution_count": 1,
   "id": "a8b302fc",
   "metadata": {},
   "outputs": [],
   "source": [
    "from pulp import *\n",
    "import pandas as pd\n",
    "import numpy as np"
   ]
  },
  {
   "cell_type": "code",
   "execution_count": 2,
   "id": "3467138c",
   "metadata": {},
   "outputs": [],
   "source": [
    "n_LeadTimeSegments = 5\n",
    "n_AtHomeDCs = 8\n",
    "\n",
    "# Penalty Cost Matrix ($)\n",
    "ILLWILLcost_matrix = np.array([[10, 10, 10, 10, 10, 10, 10, 10],\n",
    "                               [200, 20, 20, 20, 20, 20, 20, 20],\n",
    "                               [300, 30, 30, 30, 30, 30, 30, 30],\n",
    "                               [400, 40, 40, 40, 40, 40, 40, 40],\n",
    "                               [500, 50, 50, 50, 50, 50, 50, 50]])\n",
    "\n",
    "#Non_ve_LeadTimeSegments = np.array([0, 0, 0, 0, 0])\n",
    "#Non_ve_AtHomeDCs = np.array([0, 0, 0, 0, 0, 0, 0, 0])\n",
    "\n",
    "# Demand Matrix (in number of Pallets)\n",
    "Pallet_demands = np.array([243, 178, 119, 276, 340, 98, 153, 310])\n",
    "\n",
    "\n",
    "# Logistics Cost Matrix ($)\n",
    "LTL_Spot_Fixing_Cost = np.array([6000, 4500, 4500, 4500, 4500])\n",
    "FTL_Spot_Fixing_Cost = np.array([4000, 3000, 3000, 3000, 3000])\n",
    "\n",
    "# Transport Capacity (in number of Pallets)\n",
    "Low_Truck_Capacity = np.array([10, 10, 10, 10, 10])\n",
    "High_Truck_Capacity = np.array([20, 20, 20, 20, 20])\n"
   ]
  },
  {
   "cell_type": "code",
   "execution_count": 3,
   "id": "d5b5fc7a",
   "metadata": {},
   "outputs": [],
   "source": [
    "#model = LpProblem(\"FTL-Maximization-Problem\", LpMinimize)"
   ]
  },
  {
   "cell_type": "code",
   "execution_count": 4,
   "id": "7cf84cbf",
   "metadata": {},
   "outputs": [
    {
     "name": "stdout",
     "output_type": "stream",
     "text": [
      "Variable Indices: ['11', '12', '13', '14', '15', '16', '17', '18', '21', '22', '23', '24', '25', '26', '27', '28', '31', '32', '33', '34', '35', '36', '37', '38', '41', '42', '43', '44', '45', '46', '47', '48', '51', '52', '53', '54', '55', '56', '57', '58']\n"
     ]
    }
   ],
   "source": [
    "variable_names_shipment = [str(i)+str(j) for j in range(1, n_AtHomeDCs+1) for i in range(1, n_LeadTimeSegments+1)]\n",
    "variable_names_shipment.sort()\n",
    "print(\"Variable Indices:\", variable_names_shipment)"
   ]
  },
  {
   "cell_type": "code",
   "execution_count": 5,
   "id": "4f5bfd9f",
   "metadata": {},
   "outputs": [
    {
     "name": "stdout",
     "output_type": "stream",
     "text": [
      "Variable Indices: ['1', '2', '3', '4', '5']\n"
     ]
    }
   ],
   "source": [
    "variable_names_LTL_Status = [str(i) for i in range(1, n_LeadTimeSegments+1)]\n",
    "variable_names_LTL_Status.sort()\n",
    "print(\"Variable Indices:\", variable_names_LTL_Status)"
   ]
  },
  {
   "cell_type": "code",
   "execution_count": 6,
   "id": "b0b9e371",
   "metadata": {},
   "outputs": [
    {
     "name": "stdout",
     "output_type": "stream",
     "text": [
      "Variable Indices: ['1', '2', '3', '4', '5']\n"
     ]
    }
   ],
   "source": [
    "variable_names_FTL_Status = [str(i) for i in range(1, n_LeadTimeSegments+1)]\n",
    "variable_names_LTL_Status.sort()\n",
    "print(\"Variable Indices:\", variable_names_FTL_Status)"
   ]
  },
  {
   "cell_type": "code",
   "execution_count": 7,
   "id": "defb76cf",
   "metadata": {},
   "outputs": [
    {
     "name": "stdout",
     "output_type": "stream",
     "text": [
      "Decision Variable/Allocation Matrix: \n",
      "[[X_11 X_12 X_13 X_14 X_15 X_16 X_17 X_18]\n",
      " [X_21 X_22 X_23 X_24 X_25 X_26 X_27 X_28]\n",
      " [X_31 X_32 X_33 X_34 X_35 X_36 X_37 X_38]\n",
      " [X_41 X_42 X_43 X_44 X_45 X_46 X_47 X_48]\n",
      " [X_51 X_52 X_53 X_54 X_55 X_56 X_57 X_58]]\n"
     ]
    }
   ],
   "source": [
    "DV_shipments = LpVariable.matrix(\"X\", variable_names_shipment, cat = \"Integer\", lowBound= 0 )\n",
    "allocation = np.array(DV_shipments).reshape(5,8)\n",
    "print(\"Decision Variable/Allocation Matrix: \")\n",
    "print(allocation)"
   ]
  },
  {
   "cell_type": "code",
   "execution_count": 8,
   "id": "1e761610",
   "metadata": {},
   "outputs": [
    {
     "name": "stdout",
     "output_type": "stream",
     "text": [
      "Decision Variable/LTL Status Matrix: \n",
      "[[Y_1]\n",
      " [Y_2]\n",
      " [Y_3]\n",
      " [Y_4]\n",
      " [Y_5]]\n"
     ]
    }
   ],
   "source": [
    "DV_status_LTL = LpVariable.matrix(\"Y\", variable_names_LTL_Status, cat = \"Integer\", lowBound= 0 )\n",
    "status_LTL = np.array(DV_status_LTL).reshape(5,1)\n",
    "print(\"Decision Variable/LTL Status Matrix: \")\n",
    "print(status_LTL)"
   ]
  },
  {
   "cell_type": "code",
   "execution_count": 9,
   "id": "0ac71224",
   "metadata": {},
   "outputs": [
    {
     "name": "stdout",
     "output_type": "stream",
     "text": [
      "Decision Variable/FTL Status Matrix: \n",
      "[[Z_1]\n",
      " [Z_2]\n",
      " [Z_3]\n",
      " [Z_4]\n",
      " [Z_5]]\n"
     ]
    }
   ],
   "source": [
    "DV_status_FTL = LpVariable.matrix(\"Z\", variable_names_FTL_Status, cat = \"Integer\", lowBound= 0 )\n",
    "status_FTL = np.array(DV_status_FTL).reshape(5,1)\n",
    "print(\"Decision Variable/FTL Status Matrix: \")\n",
    "print(status_FTL)"
   ]
  },
  {
   "cell_type": "code",
   "execution_count": 10,
   "id": "03eac037",
   "metadata": {},
   "outputs": [
    {
     "name": "stdout",
     "output_type": "stream",
     "text": [
      "Variable Indices: ['1', '2', '3', '4', '5', '6', '7', '8']\n"
     ]
    }
   ],
   "source": [
    "variable_names_FTL_Indicator = [str(j) for j in range(1, n_AtHomeDCs+1)]\n",
    "variable_names_FTL_Indicator.sort()\n",
    "print(\"Variable Indices:\", variable_names_FTL_Indicator)"
   ]
  },
  {
   "cell_type": "code",
   "execution_count": 11,
   "id": "64730f66",
   "metadata": {},
   "outputs": [
    {
     "name": "stdout",
     "output_type": "stream",
     "text": [
      "Decision Variable/FTL Indicator Matrix: \n",
      "[[W_1 W_2 W_3 W_4 W_5 W_6 W_7 W_8]]\n"
     ]
    }
   ],
   "source": [
    "DV_Indicator_FTL = LpVariable.matrix(\"W\", variable_names_FTL_Indicator, cat = \"Integer\", lowBound= 0 )\n",
    "Indicator_FTL = np.array(DV_Indicator_FTL).reshape(1,8)\n",
    "print(\"Decision Variable/FTL Indicator Matrix: \")\n",
    "print(Indicator_FTL)"
   ]
  },
  {
   "cell_type": "code",
   "execution_count": 12,
   "id": "17b304ac",
   "metadata": {},
   "outputs": [],
   "source": [
    "#obj_func1 = lpSum(allocation*ILLWILLcost_matrix) \n",
    "#obj_func2 = (LTL_Spot_Fixing_Cost*status_LTL)\n",
    "#obj_func3 = (FTL_Spot_Fixing_Cost*status_FTL)\n",
    "#obj_func = obj_func1 + obj_func2 + obj_func3\n",
    "#print(obj_func)\n",
    "#model +=  obj_func1 + obj_func2 + obj_func3\n",
    "#print(model)"
   ]
  },
  {
   "cell_type": "code",
   "execution_count": 13,
   "id": "0fe5f476",
   "metadata": {},
   "outputs": [],
   "source": [
    "import operator\n",
    "def dotproduct(vec1, vec2):\n",
    "    return sum(map(operator.mul, vec1, vec2))"
   ]
  },
  {
   "cell_type": "code",
   "execution_count": 14,
   "id": "dc87f803",
   "metadata": {},
   "outputs": [
    {
     "name": "stdout",
     "output_type": "stream",
     "text": [
      "[[array([6000*Y_1 + 4500*Y_2 + 4500*Y_3 + 4500*Y_4 + 4500*Y_5 + 0],\n",
      "      dtype=object)]]\n",
      "[[array([4000*Z_1 + 3000*Z_2 + 3000*Z_3 + 3000*Z_4 + 3000*Z_5 + 0],\n",
      "      dtype=object)]]\n"
     ]
    }
   ],
   "source": [
    "a = [LTL_Spot_Fixing_Cost] \n",
    "b = [status_LTL]\n",
    "o = [[dotproduct(m, n)] for m, n in zip(a, b)]\n",
    "c = [FTL_Spot_Fixing_Cost] \n",
    "d = [status_FTL]\n",
    "p = [[dotproduct(m, n)] for m, n in zip(c, d)]\n",
    "print(o)\n",
    "print(p)"
   ]
  },
  {
   "cell_type": "code",
   "execution_count": 15,
   "id": "00656d55",
   "metadata": {},
   "outputs": [
    {
     "name": "stdout",
     "output_type": "stream",
     "text": [
      "20*W_1 + 20*W_2 + 20*W_3 + 20*W_4 + 20*W_5 + 20*W_6 + 20*W_7 + 20*W_8 + 10*X_11 + 10*X_12 + 10*X_13 + 10*X_14 + 10*X_15 + 10*X_16 + 10*X_17 + 10*X_18 + 200*X_21 + 20*X_22 + 20*X_23 + 20*X_24 + 20*X_25 + 20*X_26 + 20*X_27 + 20*X_28 + 300*X_31 + 30*X_32 + 30*X_33 + 30*X_34 + 30*X_35 + 30*X_36 + 30*X_37 + 30*X_38 + 400*X_41 + 40*X_42 + 40*X_43 + 40*X_44 + 40*X_45 + 40*X_46 + 40*X_47 + 40*X_48 + 500*X_51 + 50*X_52 + 50*X_53 + 50*X_54 + 50*X_55 + 50*X_56 + 50*X_57 + 50*X_58 + 6000*Y_1 + 4500*Y_2 + 4500*Y_3 + 4500*Y_4 + 4500*Y_5 + 4000*Z_1 + 3000*Z_2 + 3000*Z_3 + 3000*Z_4 + 3000*Z_5\n"
     ]
    }
   ],
   "source": [
    "obj_func = lpSum(allocation*ILLWILLcost_matrix) + o + p + Indicator_FTL*20\n",
    "print(obj_func)\n",
    "#model +=  obj_func\n",
    "#print(model)"
   ]
  },
  {
   "cell_type": "code",
   "execution_count": 16,
   "id": "ce5c879f",
   "metadata": {
    "scrolled": true
   },
   "outputs": [
    {
     "name": "stdout",
     "output_type": "stream",
     "text": [
      "[[array([10*Y_1 + 10*Y_2 + 10*Y_3 + 10*Y_4 + 10*Y_5 + 0], dtype=object)]]\n",
      "[[array([20*Z_1 + 20*Z_2 + 20*Z_3 + 20*Z_4 + 20*Z_5 + 0], dtype=object)]]\n"
     ]
    }
   ],
   "source": [
    "e = [Low_Truck_Capacity] \n",
    "b = [status_LTL]\n",
    "q = [[dotproduct(m, n)] for m, n in zip(e, b)]\n",
    "f = [High_Truck_Capacity] \n",
    "d = [status_FTL]\n",
    "r = [[dotproduct(m, n)] for m, n in zip(f, d)]\n",
    "print(q)\n",
    "print(r)"
   ]
  },
  {
   "cell_type": "code",
   "execution_count": 17,
   "id": "eec51c8a",
   "metadata": {},
   "outputs": [],
   "source": [
    "model = LpProblem(\"FTL-Maximization-Problem\", LpMinimize)\n",
    "model +=  obj_func"
   ]
  },
  {
   "cell_type": "code",
   "execution_count": 18,
   "id": "3cf57a9b",
   "metadata": {},
   "outputs": [
    {
     "name": "stdout",
     "output_type": "stream",
     "text": [
      "-X_11 - X_12 - X_13 - X_14 - X_15 - X_16 - X_17 - X_18 + 10*Y_1 + 20*Z_1 >= 0\n",
      "-X_21 - X_22 - X_23 - X_24 - X_25 - X_26 - X_27 - X_28 + 10*Y_2 + 20*Z_2 >= 0\n",
      "-X_31 - X_32 - X_33 - X_34 - X_35 - X_36 - X_37 - X_38 + 10*Y_3 + 20*Z_3 >= 0\n",
      "-X_41 - X_42 - X_43 - X_44 - X_45 - X_46 - X_47 - X_48 + 10*Y_4 + 20*Z_4 >= 0\n",
      "-X_51 - X_52 - X_53 - X_54 - X_55 - X_56 - X_57 - X_58 + 10*Y_5 + 20*Z_5 >= 0\n",
      "-X_11 - X_21 - X_31 - X_41 - X_51 = -243\n",
      "-X_12 - X_22 - X_32 - X_42 - X_52 = -178\n",
      "-X_13 - X_23 - X_33 - X_43 - X_53 = -119\n",
      "-X_14 - X_24 - X_34 - X_44 - X_54 = -276\n",
      "-X_15 - X_25 - X_35 - X_45 - X_55 = -340\n",
      "-X_16 - X_26 - X_36 - X_46 - X_56 = -98\n",
      "-X_17 - X_27 - X_37 - X_47 - X_57 = -153\n",
      "-X_18 - X_28 - X_38 - X_48 - X_58 = -310\n",
      "20*W_1 - X_11 - X_21 - X_31 - X_41 - X_51 >= 0\n",
      "20*W_2 - X_12 - X_22 - X_32 - X_42 - X_52 >= 0\n",
      "20*W_3 - X_13 - X_23 - X_33 - X_43 - X_53 >= 0\n",
      "20*W_4 - X_14 - X_24 - X_34 - X_44 - X_54 >= 0\n",
      "20*W_5 - X_15 - X_25 - X_35 - X_45 - X_55 >= 0\n",
      "20*W_6 - X_16 - X_26 - X_36 - X_46 - X_56 >= 0\n",
      "20*W_7 - X_17 - X_27 - X_37 - X_47 - X_57 >= 0\n",
      "20*W_8 - X_18 - X_28 - X_38 - X_48 - X_58 >= 0\n"
     ]
    }
   ],
   "source": [
    "for i in range(n_LeadTimeSegments):\n",
    "    #print(-lpSum(allocation[i][j] for j in range(n_AtHomeDCs)) + (status_FTL[i] * High_Truck_Capacity[i]) + (status_LTL[i] * Low_Truck_Capacity[i]) >= Non_ve_LeadTimeSegments[i])\n",
    "    print(-lpSum(allocation[i][j] for j in range(n_AtHomeDCs)) + (status_FTL[i] * High_Truck_Capacity[i]) + (status_LTL[i] * Low_Truck_Capacity[i]) >= 0)\n",
    "    model += (-lpSum(allocation[i][j] for j in range(n_AtHomeDCs)) + (status_FTL[i] * High_Truck_Capacity[i]) + (status_LTL[i] * Low_Truck_Capacity[i])) >= 0, \"Lot-Sizing Constraints \" + str(i)\n",
    "    \n",
    "for j in range(n_AtHomeDCs):\n",
    "    #print(- lpSum(allocation[i][j] for i in range(n_LeadTimeSegments)) + Pallet_demands[j] == Non_ve_AtHomeDCs[j])\n",
    "    print(-lpSum(allocation[i][j] for i in range(n_LeadTimeSegments)) + Pallet_demands[j] == 0)\n",
    "    model += (-lpSum(allocation[i][j] for i in range(n_LeadTimeSegments)) + Pallet_demands[j]) == 0, \"Replenishment Constraints \" + str(j)\n",
    "\n",
    "for j in range(n_AtHomeDCs):\n",
    "    #print(- lpSum(allocation[i][j] for i in range(n_LeadTimeSegments)) + Indicator_FTL*20 >= Non_ve_AtHomeDCs[j])\n",
    "    print(-lpSum(allocation[i][j] for i in range(n_LeadTimeSegments)) + (DV_Indicator_FTL[j]*20) >= 0)\n",
    "    model += (-lpSum(allocation[i][j] for i in range(n_LeadTimeSegments)) + (DV_Indicator_FTL[j]*20)) >= 0, \"Truck Loading Constraints \" + str(j)"
   ]
  },
  {
   "cell_type": "code",
   "execution_count": 19,
   "id": "bb3ce54c",
   "metadata": {},
   "outputs": [
    {
     "name": "stdout",
     "output_type": "stream",
     "text": [
      "FTL-Maximization-Problem:\n",
      "MINIMIZE\n",
      "20*W_1 + 20*W_2 + 20*W_3 + 20*W_4 + 20*W_5 + 20*W_6 + 20*W_7 + 20*W_8 + 10*X_11 + 10*X_12 + 10*X_13 + 10*X_14 + 10*X_15 + 10*X_16 + 10*X_17 + 10*X_18 + 200*X_21 + 20*X_22 + 20*X_23 + 20*X_24 + 20*X_25 + 20*X_26 + 20*X_27 + 20*X_28 + 300*X_31 + 30*X_32 + 30*X_33 + 30*X_34 + 30*X_35 + 30*X_36 + 30*X_37 + 30*X_38 + 400*X_41 + 40*X_42 + 40*X_43 + 40*X_44 + 40*X_45 + 40*X_46 + 40*X_47 + 40*X_48 + 500*X_51 + 50*X_52 + 50*X_53 + 50*X_54 + 50*X_55 + 50*X_56 + 50*X_57 + 50*X_58 + 6000*Y_1 + 4500*Y_2 + 4500*Y_3 + 4500*Y_4 + 4500*Y_5 + 4000*Z_1 + 3000*Z_2 + 3000*Z_3 + 3000*Z_4 + 3000*Z_5 + 0\n",
      "SUBJECT TO\n",
      "Lot_Sizing_Constraints_0: - X_11 - X_12 - X_13 - X_14 - X_15 - X_16 - X_17\n",
      " - X_18 + 10 Y_1 + 20 Z_1 >= 0\n",
      "\n",
      "Lot_Sizing_Constraints_1: - X_21 - X_22 - X_23 - X_24 - X_25 - X_26 - X_27\n",
      " - X_28 + 10 Y_2 + 20 Z_2 >= 0\n",
      "\n",
      "Lot_Sizing_Constraints_2: - X_31 - X_32 - X_33 - X_34 - X_35 - X_36 - X_37\n",
      " - X_38 + 10 Y_3 + 20 Z_3 >= 0\n",
      "\n",
      "Lot_Sizing_Constraints_3: - X_41 - X_42 - X_43 - X_44 - X_45 - X_46 - X_47\n",
      " - X_48 + 10 Y_4 + 20 Z_4 >= 0\n",
      "\n",
      "Lot_Sizing_Constraints_4: - X_51 - X_52 - X_53 - X_54 - X_55 - X_56 - X_57\n",
      " - X_58 + 10 Y_5 + 20 Z_5 >= 0\n",
      "\n",
      "Replenishment_Constraints_0: - X_11 - X_21 - X_31 - X_41 - X_51 = -243\n",
      "\n",
      "Replenishment_Constraints_1: - X_12 - X_22 - X_32 - X_42 - X_52 = -178\n",
      "\n",
      "Replenishment_Constraints_2: - X_13 - X_23 - X_33 - X_43 - X_53 = -119\n",
      "\n",
      "Replenishment_Constraints_3: - X_14 - X_24 - X_34 - X_44 - X_54 = -276\n",
      "\n",
      "Replenishment_Constraints_4: - X_15 - X_25 - X_35 - X_45 - X_55 = -340\n",
      "\n",
      "Replenishment_Constraints_5: - X_16 - X_26 - X_36 - X_46 - X_56 = -98\n",
      "\n",
      "Replenishment_Constraints_6: - X_17 - X_27 - X_37 - X_47 - X_57 = -153\n",
      "\n",
      "Replenishment_Constraints_7: - X_18 - X_28 - X_38 - X_48 - X_58 = -310\n",
      "\n",
      "Truck_Loading_Constraints_0: 20 W_1 - X_11 - X_21 - X_31 - X_41 - X_51 >= 0\n",
      "\n",
      "Truck_Loading_Constraints_1: 20 W_2 - X_12 - X_22 - X_32 - X_42 - X_52 >= 0\n",
      "\n",
      "Truck_Loading_Constraints_2: 20 W_3 - X_13 - X_23 - X_33 - X_43 - X_53 >= 0\n",
      "\n",
      "Truck_Loading_Constraints_3: 20 W_4 - X_14 - X_24 - X_34 - X_44 - X_54 >= 0\n",
      "\n",
      "Truck_Loading_Constraints_4: 20 W_5 - X_15 - X_25 - X_35 - X_45 - X_55 >= 0\n",
      "\n",
      "Truck_Loading_Constraints_5: 20 W_6 - X_16 - X_26 - X_36 - X_46 - X_56 >= 0\n",
      "\n",
      "Truck_Loading_Constraints_6: 20 W_7 - X_17 - X_27 - X_37 - X_47 - X_57 >= 0\n",
      "\n",
      "Truck_Loading_Constraints_7: 20 W_8 - X_18 - X_28 - X_38 - X_48 - X_58 >= 0\n",
      "\n",
      "VARIABLES\n",
      "0 <= W_1 Integer\n",
      "0 <= W_2 Integer\n",
      "0 <= W_3 Integer\n",
      "0 <= W_4 Integer\n",
      "0 <= W_5 Integer\n",
      "0 <= W_6 Integer\n",
      "0 <= W_7 Integer\n",
      "0 <= W_8 Integer\n",
      "0 <= X_11 Integer\n",
      "0 <= X_12 Integer\n",
      "0 <= X_13 Integer\n",
      "0 <= X_14 Integer\n",
      "0 <= X_15 Integer\n",
      "0 <= X_16 Integer\n",
      "0 <= X_17 Integer\n",
      "0 <= X_18 Integer\n",
      "0 <= X_21 Integer\n",
      "0 <= X_22 Integer\n",
      "0 <= X_23 Integer\n",
      "0 <= X_24 Integer\n",
      "0 <= X_25 Integer\n",
      "0 <= X_26 Integer\n",
      "0 <= X_27 Integer\n",
      "0 <= X_28 Integer\n",
      "0 <= X_31 Integer\n",
      "0 <= X_32 Integer\n",
      "0 <= X_33 Integer\n",
      "0 <= X_34 Integer\n",
      "0 <= X_35 Integer\n",
      "0 <= X_36 Integer\n",
      "0 <= X_37 Integer\n",
      "0 <= X_38 Integer\n",
      "0 <= X_41 Integer\n",
      "0 <= X_42 Integer\n",
      "0 <= X_43 Integer\n",
      "0 <= X_44 Integer\n",
      "0 <= X_45 Integer\n",
      "0 <= X_46 Integer\n",
      "0 <= X_47 Integer\n",
      "0 <= X_48 Integer\n",
      "0 <= X_51 Integer\n",
      "0 <= X_52 Integer\n",
      "0 <= X_53 Integer\n",
      "0 <= X_54 Integer\n",
      "0 <= X_55 Integer\n",
      "0 <= X_56 Integer\n",
      "0 <= X_57 Integer\n",
      "0 <= X_58 Integer\n",
      "0 <= Y_1 Integer\n",
      "0 <= Y_2 Integer\n",
      "0 <= Y_3 Integer\n",
      "0 <= Y_4 Integer\n",
      "0 <= Y_5 Integer\n",
      "0 <= Z_1 Integer\n",
      "0 <= Z_2 Integer\n",
      "0 <= Z_3 Integer\n",
      "0 <= Z_4 Integer\n",
      "0 <= Z_5 Integer\n",
      "\n"
     ]
    }
   ],
   "source": [
    "print(model)"
   ]
  },
  {
   "cell_type": "code",
   "execution_count": 20,
   "id": "95239875",
   "metadata": {},
   "outputs": [
    {
     "name": "stdout",
     "output_type": "stream",
     "text": [
      "Optimal\n"
     ]
    }
   ],
   "source": [
    "model.solve(PULP_CBC_CMD())\n",
    "\n",
    "status =  LpStatus[model.status]\n",
    "\n",
    "print(status)"
   ]
  },
  {
   "cell_type": "code",
   "execution_count": 21,
   "id": "e42e760b",
   "metadata": {},
   "outputs": [
    {
     "name": "stdout",
     "output_type": "stream",
     "text": [
      "Total Logistics Cost: 304240.0\n",
      "W_1 = 13.0\n",
      "W_2 = 9.0\n",
      "W_3 = 6.0\n",
      "W_4 = 14.0\n",
      "W_5 = 17.0\n",
      "W_6 = 5.0\n",
      "W_7 = 8.0\n",
      "W_8 = 16.0\n",
      "X_11 = 240.0\n",
      "X_12 = 0.0\n",
      "X_13 = 0.0\n",
      "X_14 = 0.0\n",
      "X_15 = 0.0\n",
      "X_16 = 0.0\n",
      "X_17 = 0.0\n",
      "X_18 = 0.0\n",
      "X_21 = 3.0\n",
      "X_22 = 178.0\n",
      "X_23 = 119.0\n",
      "X_24 = 276.0\n",
      "X_25 = 340.0\n",
      "X_26 = 98.0\n",
      "X_27 = 153.0\n",
      "X_28 = 310.0\n",
      "X_31 = 0.0\n",
      "X_32 = 0.0\n",
      "X_33 = 0.0\n",
      "X_34 = 0.0\n",
      "X_35 = 0.0\n",
      "X_36 = 0.0\n",
      "X_37 = 0.0\n",
      "X_38 = 0.0\n",
      "X_41 = 0.0\n",
      "X_42 = 0.0\n",
      "X_43 = 0.0\n",
      "X_44 = 0.0\n",
      "X_45 = 0.0\n",
      "X_46 = 0.0\n",
      "X_47 = 0.0\n",
      "X_48 = 0.0\n",
      "X_51 = 0.0\n",
      "X_52 = 0.0\n",
      "X_53 = 0.0\n",
      "X_54 = 0.0\n",
      "X_55 = 0.0\n",
      "X_56 = 0.0\n",
      "X_57 = 0.0\n",
      "X_58 = 0.0\n",
      "Y_1 = 0.0\n",
      "Y_2 = 0.0\n",
      "Y_3 = 0.0\n",
      "Y_4 = 0.0\n",
      "Y_5 = 0.0\n",
      "Z_1 = 12.0\n",
      "Z_2 = 74.0\n",
      "Z_3 = 0.0\n",
      "Z_4 = 0.0\n",
      "Z_5 = 0.0\n"
     ]
    }
   ],
   "source": [
    "print(\"Total Logistics Cost:\", model.objective.value())\n",
    "\n",
    "# Decision Variables\n",
    "\n",
    "for v in model.variables():\n",
    "    try:\n",
    "        print(v.name,\"=\", v.value())\n",
    "    except:\n",
    "        print(\"error couldnt find value\")"
   ]
  },
  {
   "cell_type": "code",
   "execution_count": 22,
   "id": "74a07e05",
   "metadata": {},
   "outputs": [
    {
     "name": "stdout",
     "output_type": "stream",
     "text": [
      "No. FTLs for the At-Home DC 1\n",
      "13.0\n",
      "No. FTLs for the At-Home DC 2\n",
      "9.0\n",
      "No. FTLs for the At-Home DC 3\n",
      "6.0\n",
      "No. FTLs for the At-Home DC 4\n",
      "14.0\n",
      "No. FTLs for the At-Home DC 5\n",
      "17.0\n",
      "No. FTLs for the At-Home DC 6\n",
      "5.0\n",
      "No. FTLs for the At-Home DC 7\n",
      "8.0\n",
      "No. FTLs for the At-Home DC 8\n",
      "16.0\n"
     ]
    }
   ],
   "source": [
    "for j in range(n_AtHomeDCs):\n",
    "    print(\"No. FTLs for the At-Home DC\", str(j+1))\n",
    "    print(DV_Indicator_FTL[j].value())"
   ]
  },
  {
   "cell_type": "code",
   "execution_count": 59,
   "id": "6f5eaffd",
   "metadata": {},
   "outputs": [],
   "source": [
    "import pandas as pd\n",
    "import csv"
   ]
  },
  {
   "cell_type": "code",
   "execution_count": 76,
   "id": "e3b3b064",
   "metadata": {},
   "outputs": [
    {
     "name": "stdout",
     "output_type": "stream",
     "text": [
      "{'Decision Variables Names': 'W_1', 'Decision Variables Velues': 13.0}\n",
      "--------------------------\n",
      "{'Decision Variables Names': 'W_2', 'Decision Variables Velues': 9.0}\n",
      "--------------------------\n",
      "{'Decision Variables Names': 'W_3', 'Decision Variables Velues': 6.0}\n",
      "--------------------------\n",
      "{'Decision Variables Names': 'W_4', 'Decision Variables Velues': 14.0}\n",
      "--------------------------\n",
      "{'Decision Variables Names': 'W_5', 'Decision Variables Velues': 17.0}\n",
      "--------------------------\n",
      "{'Decision Variables Names': 'W_6', 'Decision Variables Velues': 5.0}\n",
      "--------------------------\n",
      "{'Decision Variables Names': 'W_7', 'Decision Variables Velues': 8.0}\n",
      "--------------------------\n",
      "{'Decision Variables Names': 'W_8', 'Decision Variables Velues': 16.0}\n",
      "--------------------------\n",
      "{'Decision Variables Names': 'X_11', 'Decision Variables Velues': 240.0}\n",
      "--------------------------\n",
      "{'Decision Variables Names': 'X_12', 'Decision Variables Velues': 0.0}\n",
      "--------------------------\n",
      "{'Decision Variables Names': 'X_13', 'Decision Variables Velues': 0.0}\n",
      "--------------------------\n",
      "{'Decision Variables Names': 'X_14', 'Decision Variables Velues': 0.0}\n",
      "--------------------------\n",
      "{'Decision Variables Names': 'X_15', 'Decision Variables Velues': 0.0}\n",
      "--------------------------\n",
      "{'Decision Variables Names': 'X_16', 'Decision Variables Velues': 0.0}\n",
      "--------------------------\n",
      "{'Decision Variables Names': 'X_17', 'Decision Variables Velues': 0.0}\n",
      "--------------------------\n",
      "{'Decision Variables Names': 'X_18', 'Decision Variables Velues': 0.0}\n",
      "--------------------------\n",
      "{'Decision Variables Names': 'X_21', 'Decision Variables Velues': 3.0}\n",
      "--------------------------\n",
      "{'Decision Variables Names': 'X_22', 'Decision Variables Velues': 178.0}\n",
      "--------------------------\n",
      "{'Decision Variables Names': 'X_23', 'Decision Variables Velues': 119.0}\n",
      "--------------------------\n",
      "{'Decision Variables Names': 'X_24', 'Decision Variables Velues': 276.0}\n",
      "--------------------------\n",
      "{'Decision Variables Names': 'X_25', 'Decision Variables Velues': 340.0}\n",
      "--------------------------\n",
      "{'Decision Variables Names': 'X_26', 'Decision Variables Velues': 98.0}\n",
      "--------------------------\n",
      "{'Decision Variables Names': 'X_27', 'Decision Variables Velues': 153.0}\n",
      "--------------------------\n",
      "{'Decision Variables Names': 'X_28', 'Decision Variables Velues': 310.0}\n",
      "--------------------------\n",
      "{'Decision Variables Names': 'X_31', 'Decision Variables Velues': 0.0}\n",
      "--------------------------\n",
      "{'Decision Variables Names': 'X_32', 'Decision Variables Velues': 0.0}\n",
      "--------------------------\n",
      "{'Decision Variables Names': 'X_33', 'Decision Variables Velues': 0.0}\n",
      "--------------------------\n",
      "{'Decision Variables Names': 'X_34', 'Decision Variables Velues': 0.0}\n",
      "--------------------------\n",
      "{'Decision Variables Names': 'X_35', 'Decision Variables Velues': 0.0}\n",
      "--------------------------\n",
      "{'Decision Variables Names': 'X_36', 'Decision Variables Velues': 0.0}\n",
      "--------------------------\n",
      "{'Decision Variables Names': 'X_37', 'Decision Variables Velues': 0.0}\n",
      "--------------------------\n",
      "{'Decision Variables Names': 'X_38', 'Decision Variables Velues': 0.0}\n",
      "--------------------------\n",
      "{'Decision Variables Names': 'X_41', 'Decision Variables Velues': 0.0}\n",
      "--------------------------\n",
      "{'Decision Variables Names': 'X_42', 'Decision Variables Velues': 0.0}\n",
      "--------------------------\n",
      "{'Decision Variables Names': 'X_43', 'Decision Variables Velues': 0.0}\n",
      "--------------------------\n",
      "{'Decision Variables Names': 'X_44', 'Decision Variables Velues': 0.0}\n",
      "--------------------------\n",
      "{'Decision Variables Names': 'X_45', 'Decision Variables Velues': 0.0}\n",
      "--------------------------\n",
      "{'Decision Variables Names': 'X_46', 'Decision Variables Velues': 0.0}\n",
      "--------------------------\n",
      "{'Decision Variables Names': 'X_47', 'Decision Variables Velues': 0.0}\n",
      "--------------------------\n",
      "{'Decision Variables Names': 'X_48', 'Decision Variables Velues': 0.0}\n",
      "--------------------------\n",
      "{'Decision Variables Names': 'X_51', 'Decision Variables Velues': 0.0}\n",
      "--------------------------\n",
      "{'Decision Variables Names': 'X_52', 'Decision Variables Velues': 0.0}\n",
      "--------------------------\n",
      "{'Decision Variables Names': 'X_53', 'Decision Variables Velues': 0.0}\n",
      "--------------------------\n",
      "{'Decision Variables Names': 'X_54', 'Decision Variables Velues': 0.0}\n",
      "--------------------------\n",
      "{'Decision Variables Names': 'X_55', 'Decision Variables Velues': 0.0}\n",
      "--------------------------\n",
      "{'Decision Variables Names': 'X_56', 'Decision Variables Velues': 0.0}\n",
      "--------------------------\n",
      "{'Decision Variables Names': 'X_57', 'Decision Variables Velues': 0.0}\n",
      "--------------------------\n",
      "{'Decision Variables Names': 'X_58', 'Decision Variables Velues': 0.0}\n",
      "--------------------------\n",
      "{'Decision Variables Names': 'Y_1', 'Decision Variables Velues': 0.0}\n",
      "--------------------------\n",
      "{'Decision Variables Names': 'Y_2', 'Decision Variables Velues': 0.0}\n",
      "--------------------------\n",
      "{'Decision Variables Names': 'Y_3', 'Decision Variables Velues': 0.0}\n",
      "--------------------------\n",
      "{'Decision Variables Names': 'Y_4', 'Decision Variables Velues': 0.0}\n",
      "--------------------------\n",
      "{'Decision Variables Names': 'Y_5', 'Decision Variables Velues': 0.0}\n",
      "--------------------------\n",
      "{'Decision Variables Names': 'Z_1', 'Decision Variables Velues': 12.0}\n",
      "--------------------------\n",
      "{'Decision Variables Names': 'Z_2', 'Decision Variables Velues': 74.0}\n",
      "--------------------------\n",
      "{'Decision Variables Names': 'Z_3', 'Decision Variables Velues': 0.0}\n",
      "--------------------------\n",
      "{'Decision Variables Names': 'Z_4', 'Decision Variables Velues': 0.0}\n",
      "--------------------------\n",
      "{'Decision Variables Names': 'Z_5', 'Decision Variables Velues': 0.0}\n",
      "--------------------------\n"
     ]
    }
   ],
   "source": [
    "for v in model.variables():\n",
    "    try:\n",
    "        #print(v.name,\"=\", v.value())\n",
    "        #data = [[v.name],[v.value]]\n",
    "        dict = {'Decision Variables Names': v.name, 'Decision Variables Velues': v.value()}\n",
    "        print(dict)\n",
    "        #file = open('Output.csv', 'w+', newline ='')\n",
    "        #with file:    \n",
    "            #write = csv.writer(file)\n",
    "            #write.writerows(data)\n",
    "        df = pd.DataFrame(dict)\n",
    "        df.to_csv = ('OP.csv')\n",
    "    except:\n",
    "        print(\"--------------------------\")"
   ]
  }
 ],
 "metadata": {
  "kernelspec": {
   "display_name": "Python 3",
   "language": "python",
   "name": "python3"
  },
  "language_info": {
   "codemirror_mode": {
    "name": "ipython",
    "version": 3
   },
   "file_extension": ".py",
   "mimetype": "text/x-python",
   "name": "python",
   "nbconvert_exporter": "python",
   "pygments_lexer": "ipython3",
   "version": "3.8.8"
  }
 },
 "nbformat": 4,
 "nbformat_minor": 5
}
