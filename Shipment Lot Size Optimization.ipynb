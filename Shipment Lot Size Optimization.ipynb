{
 "cells": [
  {
   "cell_type": "code",
   "execution_count": 1,
   "id": "05e7bac4",
   "metadata": {},
   "outputs": [],
   "source": [
    "import pandas as pd\n",
    "import numpy as np"
   ]
  },
  {
   "cell_type": "code",
   "execution_count": 7,
   "id": "de2530d7",
   "metadata": {},
   "outputs": [],
   "source": [
    "product = {'Week' : [1,2,3,4,5,6,7,8,9,10,11,12],'demand':[290,260,288,300,310,303,329,340,316,330,308,310]}"
   ]
  },
  {
   "cell_type": "code",
   "execution_count": 8,
   "id": "b55a70a5",
   "metadata": {},
   "outputs": [],
   "source": [
    "df = pd.DataFrame(product)"
   ]
  },
  {
   "cell_type": "code",
   "execution_count": 9,
   "id": "f60a3881",
   "metadata": {},
   "outputs": [
    {
     "data": {
      "text/html": [
       "<div>\n",
       "<style scoped>\n",
       "    .dataframe tbody tr th:only-of-type {\n",
       "        vertical-align: middle;\n",
       "    }\n",
       "\n",
       "    .dataframe tbody tr th {\n",
       "        vertical-align: top;\n",
       "    }\n",
       "\n",
       "    .dataframe thead th {\n",
       "        text-align: right;\n",
       "    }\n",
       "</style>\n",
       "<table border=\"1\" class=\"dataframe\">\n",
       "  <thead>\n",
       "    <tr style=\"text-align: right;\">\n",
       "      <th></th>\n",
       "      <th>Week</th>\n",
       "      <th>demand</th>\n",
       "    </tr>\n",
       "  </thead>\n",
       "  <tbody>\n",
       "    <tr>\n",
       "      <th>0</th>\n",
       "      <td>1</td>\n",
       "      <td>290</td>\n",
       "    </tr>\n",
       "    <tr>\n",
       "      <th>1</th>\n",
       "      <td>2</td>\n",
       "      <td>260</td>\n",
       "    </tr>\n",
       "    <tr>\n",
       "      <th>2</th>\n",
       "      <td>3</td>\n",
       "      <td>288</td>\n",
       "    </tr>\n",
       "    <tr>\n",
       "      <th>3</th>\n",
       "      <td>4</td>\n",
       "      <td>300</td>\n",
       "    </tr>\n",
       "    <tr>\n",
       "      <th>4</th>\n",
       "      <td>5</td>\n",
       "      <td>310</td>\n",
       "    </tr>\n",
       "  </tbody>\n",
       "</table>\n",
       "</div>"
      ],
      "text/plain": [
       "   Week  demand\n",
       "0     1     290\n",
       "1     2     260\n",
       "2     3     288\n",
       "3     4     300\n",
       "4     5     310"
      ]
     },
     "execution_count": 9,
     "metadata": {},
     "output_type": "execute_result"
    }
   ],
   "source": [
    "df.head()"
   ]
  },
  {
   "cell_type": "markdown",
   "id": "635e611c",
   "metadata": {},
   "source": [
    "# Simple Moving Average (SMA) with Window size of 3"
   ]
  },
  {
   "cell_type": "code",
   "execution_count": 10,
   "id": "ecaad7b8",
   "metadata": {},
   "outputs": [],
   "source": [
    "for i in range(0,df.shape[0]-2):\n",
    "    df.loc[df.index[i+2],'SMA_3'] = np.round(((df.iloc[i,1]+ df.iloc[i+1,1] +df.iloc[i+2,1])/3),1)"
   ]
  },
  {
   "cell_type": "code",
   "execution_count": 11,
   "id": "4a4b7184",
   "metadata": {},
   "outputs": [
    {
     "data": {
      "text/html": [
       "<div>\n",
       "<style scoped>\n",
       "    .dataframe tbody tr th:only-of-type {\n",
       "        vertical-align: middle;\n",
       "    }\n",
       "\n",
       "    .dataframe tbody tr th {\n",
       "        vertical-align: top;\n",
       "    }\n",
       "\n",
       "    .dataframe thead th {\n",
       "        text-align: right;\n",
       "    }\n",
       "</style>\n",
       "<table border=\"1\" class=\"dataframe\">\n",
       "  <thead>\n",
       "    <tr style=\"text-align: right;\">\n",
       "      <th></th>\n",
       "      <th>Week</th>\n",
       "      <th>demand</th>\n",
       "      <th>SMA_3</th>\n",
       "    </tr>\n",
       "  </thead>\n",
       "  <tbody>\n",
       "    <tr>\n",
       "      <th>0</th>\n",
       "      <td>1</td>\n",
       "      <td>290</td>\n",
       "      <td>NaN</td>\n",
       "    </tr>\n",
       "    <tr>\n",
       "      <th>1</th>\n",
       "      <td>2</td>\n",
       "      <td>260</td>\n",
       "      <td>NaN</td>\n",
       "    </tr>\n",
       "    <tr>\n",
       "      <th>2</th>\n",
       "      <td>3</td>\n",
       "      <td>288</td>\n",
       "      <td>279.3</td>\n",
       "    </tr>\n",
       "    <tr>\n",
       "      <th>3</th>\n",
       "      <td>4</td>\n",
       "      <td>300</td>\n",
       "      <td>282.7</td>\n",
       "    </tr>\n",
       "    <tr>\n",
       "      <th>4</th>\n",
       "      <td>5</td>\n",
       "      <td>310</td>\n",
       "      <td>299.3</td>\n",
       "    </tr>\n",
       "  </tbody>\n",
       "</table>\n",
       "</div>"
      ],
      "text/plain": [
       "   Week  demand  SMA_3\n",
       "0     1     290    NaN\n",
       "1     2     260    NaN\n",
       "2     3     288  279.3\n",
       "3     4     300  282.7\n",
       "4     5     310  299.3"
      ]
     },
     "execution_count": 11,
     "metadata": {},
     "output_type": "execute_result"
    }
   ],
   "source": [
    "df.head()"
   ]
  },
  {
   "cell_type": "markdown",
   "id": "176a8005",
   "metadata": {},
   "source": [
    "# Simple Moving Average (SMA) with Window size of 4"
   ]
  },
  {
   "cell_type": "code",
   "execution_count": 12,
   "id": "a2741432",
   "metadata": {},
   "outputs": [],
   "source": [
    "df['pandas_SMA_3'] = df.iloc[:,1].rolling(window=3).mean()"
   ]
  },
  {
   "cell_type": "code",
   "execution_count": 13,
   "id": "6b3384c3",
   "metadata": {},
   "outputs": [
    {
     "data": {
      "text/html": [
       "<div>\n",
       "<style scoped>\n",
       "    .dataframe tbody tr th:only-of-type {\n",
       "        vertical-align: middle;\n",
       "    }\n",
       "\n",
       "    .dataframe tbody tr th {\n",
       "        vertical-align: top;\n",
       "    }\n",
       "\n",
       "    .dataframe thead th {\n",
       "        text-align: right;\n",
       "    }\n",
       "</style>\n",
       "<table border=\"1\" class=\"dataframe\">\n",
       "  <thead>\n",
       "    <tr style=\"text-align: right;\">\n",
       "      <th></th>\n",
       "      <th>Week</th>\n",
       "      <th>demand</th>\n",
       "      <th>SMA_3</th>\n",
       "      <th>pandas_SMA_3</th>\n",
       "    </tr>\n",
       "  </thead>\n",
       "  <tbody>\n",
       "    <tr>\n",
       "      <th>0</th>\n",
       "      <td>1</td>\n",
       "      <td>290</td>\n",
       "      <td>NaN</td>\n",
       "      <td>NaN</td>\n",
       "    </tr>\n",
       "    <tr>\n",
       "      <th>1</th>\n",
       "      <td>2</td>\n",
       "      <td>260</td>\n",
       "      <td>NaN</td>\n",
       "      <td>NaN</td>\n",
       "    </tr>\n",
       "    <tr>\n",
       "      <th>2</th>\n",
       "      <td>3</td>\n",
       "      <td>288</td>\n",
       "      <td>279.3</td>\n",
       "      <td>279.333333</td>\n",
       "    </tr>\n",
       "    <tr>\n",
       "      <th>3</th>\n",
       "      <td>4</td>\n",
       "      <td>300</td>\n",
       "      <td>282.7</td>\n",
       "      <td>282.666667</td>\n",
       "    </tr>\n",
       "    <tr>\n",
       "      <th>4</th>\n",
       "      <td>5</td>\n",
       "      <td>310</td>\n",
       "      <td>299.3</td>\n",
       "      <td>299.333333</td>\n",
       "    </tr>\n",
       "  </tbody>\n",
       "</table>\n",
       "</div>"
      ],
      "text/plain": [
       "   Week  demand  SMA_3  pandas_SMA_3\n",
       "0     1     290    NaN           NaN\n",
       "1     2     260    NaN           NaN\n",
       "2     3     288  279.3    279.333333\n",
       "3     4     300  282.7    282.666667\n",
       "4     5     310  299.3    299.333333"
      ]
     },
     "execution_count": 13,
     "metadata": {},
     "output_type": "execute_result"
    }
   ],
   "source": [
    "df.head()"
   ]
  },
  {
   "cell_type": "code",
   "execution_count": 14,
   "id": "d29736b5",
   "metadata": {},
   "outputs": [],
   "source": [
    "for i in range(0,df.shape[0]-3):\n",
    "    df.loc[df.index[i+3],'SMA_4'] = np.round(((df.iloc[i,1]+ df.iloc[i+1,1] +df.iloc[i+2,1]+df.iloc[i+3,1])/4),1)"
   ]
  },
  {
   "cell_type": "code",
   "execution_count": 15,
   "id": "2d0d2a79",
   "metadata": {},
   "outputs": [
    {
     "data": {
      "text/html": [
       "<div>\n",
       "<style scoped>\n",
       "    .dataframe tbody tr th:only-of-type {\n",
       "        vertical-align: middle;\n",
       "    }\n",
       "\n",
       "    .dataframe tbody tr th {\n",
       "        vertical-align: top;\n",
       "    }\n",
       "\n",
       "    .dataframe thead th {\n",
       "        text-align: right;\n",
       "    }\n",
       "</style>\n",
       "<table border=\"1\" class=\"dataframe\">\n",
       "  <thead>\n",
       "    <tr style=\"text-align: right;\">\n",
       "      <th></th>\n",
       "      <th>Week</th>\n",
       "      <th>demand</th>\n",
       "      <th>SMA_3</th>\n",
       "      <th>pandas_SMA_3</th>\n",
       "      <th>SMA_4</th>\n",
       "    </tr>\n",
       "  </thead>\n",
       "  <tbody>\n",
       "    <tr>\n",
       "      <th>0</th>\n",
       "      <td>1</td>\n",
       "      <td>290</td>\n",
       "      <td>NaN</td>\n",
       "      <td>NaN</td>\n",
       "      <td>NaN</td>\n",
       "    </tr>\n",
       "    <tr>\n",
       "      <th>1</th>\n",
       "      <td>2</td>\n",
       "      <td>260</td>\n",
       "      <td>NaN</td>\n",
       "      <td>NaN</td>\n",
       "      <td>NaN</td>\n",
       "    </tr>\n",
       "    <tr>\n",
       "      <th>2</th>\n",
       "      <td>3</td>\n",
       "      <td>288</td>\n",
       "      <td>279.3</td>\n",
       "      <td>279.333333</td>\n",
       "      <td>NaN</td>\n",
       "    </tr>\n",
       "    <tr>\n",
       "      <th>3</th>\n",
       "      <td>4</td>\n",
       "      <td>300</td>\n",
       "      <td>282.7</td>\n",
       "      <td>282.666667</td>\n",
       "      <td>284.5</td>\n",
       "    </tr>\n",
       "    <tr>\n",
       "      <th>4</th>\n",
       "      <td>5</td>\n",
       "      <td>310</td>\n",
       "      <td>299.3</td>\n",
       "      <td>299.333333</td>\n",
       "      <td>289.5</td>\n",
       "    </tr>\n",
       "  </tbody>\n",
       "</table>\n",
       "</div>"
      ],
      "text/plain": [
       "   Week  demand  SMA_3  pandas_SMA_3  SMA_4\n",
       "0     1     290    NaN           NaN    NaN\n",
       "1     2     260    NaN           NaN    NaN\n",
       "2     3     288  279.3    279.333333    NaN\n",
       "3     4     300  282.7    282.666667  284.5\n",
       "4     5     310  299.3    299.333333  289.5"
      ]
     },
     "execution_count": 15,
     "metadata": {},
     "output_type": "execute_result"
    }
   ],
   "source": [
    "df.head()"
   ]
  },
  {
   "cell_type": "code",
   "execution_count": 16,
   "id": "19fed8cf",
   "metadata": {},
   "outputs": [],
   "source": [
    "df['pandas_SMA_4'] = df.iloc[:,1].rolling(window=4).mean()"
   ]
  },
  {
   "cell_type": "code",
   "execution_count": 17,
   "id": "a85f7df9",
   "metadata": {},
   "outputs": [
    {
     "data": {
      "text/html": [
       "<div>\n",
       "<style scoped>\n",
       "    .dataframe tbody tr th:only-of-type {\n",
       "        vertical-align: middle;\n",
       "    }\n",
       "\n",
       "    .dataframe tbody tr th {\n",
       "        vertical-align: top;\n",
       "    }\n",
       "\n",
       "    .dataframe thead th {\n",
       "        text-align: right;\n",
       "    }\n",
       "</style>\n",
       "<table border=\"1\" class=\"dataframe\">\n",
       "  <thead>\n",
       "    <tr style=\"text-align: right;\">\n",
       "      <th></th>\n",
       "      <th>Week</th>\n",
       "      <th>demand</th>\n",
       "      <th>SMA_3</th>\n",
       "      <th>pandas_SMA_3</th>\n",
       "      <th>SMA_4</th>\n",
       "      <th>pandas_SMA_4</th>\n",
       "    </tr>\n",
       "  </thead>\n",
       "  <tbody>\n",
       "    <tr>\n",
       "      <th>0</th>\n",
       "      <td>1</td>\n",
       "      <td>290</td>\n",
       "      <td>NaN</td>\n",
       "      <td>NaN</td>\n",
       "      <td>NaN</td>\n",
       "      <td>NaN</td>\n",
       "    </tr>\n",
       "    <tr>\n",
       "      <th>1</th>\n",
       "      <td>2</td>\n",
       "      <td>260</td>\n",
       "      <td>NaN</td>\n",
       "      <td>NaN</td>\n",
       "      <td>NaN</td>\n",
       "      <td>NaN</td>\n",
       "    </tr>\n",
       "    <tr>\n",
       "      <th>2</th>\n",
       "      <td>3</td>\n",
       "      <td>288</td>\n",
       "      <td>279.3</td>\n",
       "      <td>279.333333</td>\n",
       "      <td>NaN</td>\n",
       "      <td>NaN</td>\n",
       "    </tr>\n",
       "    <tr>\n",
       "      <th>3</th>\n",
       "      <td>4</td>\n",
       "      <td>300</td>\n",
       "      <td>282.7</td>\n",
       "      <td>282.666667</td>\n",
       "      <td>284.5</td>\n",
       "      <td>284.5</td>\n",
       "    </tr>\n",
       "    <tr>\n",
       "      <th>4</th>\n",
       "      <td>5</td>\n",
       "      <td>310</td>\n",
       "      <td>299.3</td>\n",
       "      <td>299.333333</td>\n",
       "      <td>289.5</td>\n",
       "      <td>289.5</td>\n",
       "    </tr>\n",
       "  </tbody>\n",
       "</table>\n",
       "</div>"
      ],
      "text/plain": [
       "   Week  demand  SMA_3  pandas_SMA_3  SMA_4  pandas_SMA_4\n",
       "0     1     290    NaN           NaN    NaN           NaN\n",
       "1     2     260    NaN           NaN    NaN           NaN\n",
       "2     3     288  279.3    279.333333    NaN           NaN\n",
       "3     4     300  282.7    282.666667  284.5         284.5\n",
       "4     5     310  299.3    299.333333  289.5         289.5"
      ]
     },
     "execution_count": 17,
     "metadata": {},
     "output_type": "execute_result"
    }
   ],
   "source": [
    "df.head()"
   ]
  },
  {
   "cell_type": "code",
   "execution_count": 18,
   "id": "5ba1a64a",
   "metadata": {},
   "outputs": [],
   "source": [
    "import matplotlib.pyplot as plt\n",
    "%matplotlib inline"
   ]
  },
  {
   "cell_type": "code",
   "execution_count": 19,
   "id": "0b81b434",
   "metadata": {
    "scrolled": true
   },
   "outputs": [
    {
     "data": {
      "text/plain": [
       "<matplotlib.legend.Legend at 0x1c41666a610>"
      ]
     },
     "execution_count": 19,
     "metadata": {},
     "output_type": "execute_result"
    },
    {
     "data": {
      "image/png": "[encoded data removed]",
      "text/plain": [
       "<Figure size 1080x720 with 1 Axes>"
      ]
     },
     "metadata": {
      "needs_background": "light"
     },
     "output_type": "display_data"
    }
   ],
   "source": [
    "plt.figure(figsize=[15,10])\n",
    "plt.grid(True)\n",
    "plt.plot(df['demand'],label='data')\n",
    "plt.plot(df['SMA_3'],label='SMA 3 Months')\n",
    "plt.plot(df['SMA_4'],label='SMA 4 Months')\n",
    "plt.legend(loc=2)"
   ]
  },
  {
   "cell_type": "code",
   "execution_count": 20,
   "id": "387fb133",
   "metadata": {},
   "outputs": [
    {
     "name": "stdout",
     "output_type": "stream",
     "text": [
      "    Week  demand  SMA_3  pandas_SMA_3  SMA_4  pandas_SMA_4\n",
      "0      1     290    NaN           NaN    NaN           NaN\n",
      "1      2     260    NaN           NaN    NaN           NaN\n",
      "2      3     288  279.3    279.333333    NaN           NaN\n",
      "3      4     300  282.7    282.666667  284.5        284.50\n",
      "4      5     310  299.3    299.333333  289.5        289.50\n",
      "5      6     303  304.3    304.333333  300.2        300.25\n",
      "6      7     329  314.0    314.000000  310.5        310.50\n",
      "7      8     340  324.0    324.000000  320.5        320.50\n",
      "8      9     316  328.3    328.333333  322.0        322.00\n",
      "9     10     330  328.7    328.666667  328.8        328.75\n",
      "10    11     308  318.0    318.000000  323.5        323.50\n",
      "11    12     310  316.0    316.000000  316.0        316.00\n"
     ]
    }
   ],
   "source": [
    "print(df)"
   ]
  },
  {
   "cell_type": "code",
   "execution_count": 22,
   "id": "ae5f53fd",
   "metadata": {},
   "outputs": [],
   "source": [
    "absolute_error_SMA3 = [288-279.3, 300-282.7, 310-299.3, 303-304.3, 329-314.0, 340-324.0, 316-328.3, 330-328.7, 308-318.0, 310-316.0]"
   ]
  },
  {
   "cell_type": "code",
   "execution_count": 23,
   "id": "c8d46124",
   "metadata": {},
   "outputs": [
    {
     "name": "stdout",
     "output_type": "stream",
     "text": [
      "[8.699999999999989, 17.30000000000001, 10.699999999999989, -1.3000000000000114, 15.0, 16.0, -12.300000000000011, 1.3000000000000114, -10.0, -6.0]\n"
     ]
    }
   ],
   "source": [
    "print(absolute_error_SMA3)"
   ]
  },
  {
   "cell_type": "code",
   "execution_count": 24,
   "id": "7f965779",
   "metadata": {},
   "outputs": [],
   "source": [
    "series = pd.Series(absolute_error_SMA3)\n",
    "mean_absolute_deviation = series.mad()"
   ]
  },
  {
   "cell_type": "code",
   "execution_count": 25,
   "id": "d59e7baa",
   "metadata": {},
   "outputs": [
    {
     "name": "stdout",
     "output_type": "stream",
     "text": [
      "9.6\n"
     ]
    }
   ],
   "source": [
    "print(mean_absolute_deviation)"
   ]
  },
  {
   "cell_type": "code",
   "execution_count": null,
   "id": "ccd072cd",
   "metadata": {},
   "outputs": [],
   "source": []
  }
 ],
 "metadata": {
  "kernelspec": {
   "display_name": "Python 3",
   "language": "python",
   "name": "python3"
  },
  "language_info": {
   "codemirror_mode": {
    "name": "ipython",
    "version": 3
   },
   "file_extension": ".py",
   "mimetype": "text/x-python",
   "name": "python",
   "nbconvert_exporter": "python",
   "pygments_lexer": "ipython3",
   "version": "3.8.8"
  }
 },
 "nbformat": 4,
 "nbformat_minor": 5
}
